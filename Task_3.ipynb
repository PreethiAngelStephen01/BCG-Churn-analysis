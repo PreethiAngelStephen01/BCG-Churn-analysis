{
  "nbformat": 4,
  "nbformat_minor": 0,
  "metadata": {
    "colab": {
      "provenance": [],
      "authorship_tag": "ABX9TyPkM/2ZifcdVFLDQttvbbpS",
      "include_colab_link": true
    },
    "kernelspec": {
      "name": "python3",
      "display_name": "Python 3"
    },
    "language_info": {
      "name": "python"
    }
  },
  "cells": [
    {
      "cell_type": "markdown",
      "metadata": {
        "id": "view-in-github",
        "colab_type": "text"
      },
      "source": [
        "<a href=\"https://colab.research.google.com/github/PreethiAngelStephen01/BCG-Churn-analysis/blob/main/Task_3.ipynb\" target=\"_parent\"><img src=\"https://colab.research.google.com/assets/colab-badge.svg\" alt=\"Open In Colab\"/></a>"
      ]
    },
    {
      "cell_type": "code",
      "execution_count": null,
      "metadata": {
        "id": "e0p0qoVsTfMk"
      },
      "outputs": [],
      "source": [
        "import pandas as pd\n",
        "import matplotlib.pyplot as plt\n",
        "import numpy as np"
      ]
    },
    {
      "cell_type": "code",
      "source": [
        "df1 = pd.read_csv('/content/client_data.csv')"
      ],
      "metadata": {
        "id": "zvmEZ-paTr2v"
      },
      "execution_count": null,
      "outputs": []
    },
    {
      "cell_type": "code",
      "source": [
        "df2 = pd.read_csv('/content/price_data.csv')"
      ],
      "metadata": {
        "id": "xWHJ8kXuc-MW"
      },
      "execution_count": null,
      "outputs": []
    },
    {
      "cell_type": "code",
      "source": [
        "df1.dtypes"
      ],
      "metadata": {
        "colab": {
          "base_uri": "https://localhost:8080/"
        },
        "id": "rEnRB6mhdCgp",
        "outputId": "e5e28330-d64b-43f0-84b5-436395119554"
      },
      "execution_count": null,
      "outputs": [
        {
          "output_type": "execute_result",
          "data": {
            "text/plain": [
              "id                                 object\n",
              "channel_sales                      object\n",
              "cons_12m                            int64\n",
              "cons_gas_12m                        int64\n",
              "cons_last_month                     int64\n",
              "date_activ                         object\n",
              "date_end                           object\n",
              "date_modif_prod                    object\n",
              "date_renewal                       object\n",
              "forecast_cons_12m                 float64\n",
              "forecast_cons_year                  int64\n",
              "forecast_discount_energy            int64\n",
              "forecast_meter_rent_12m           float64\n",
              "forecast_price_energy_off_peak    float64\n",
              "forecast_price_energy_peak        float64\n",
              "forecast_price_pow_off_peak       float64\n",
              "has_gas                            object\n",
              "imp_cons                          float64\n",
              "margin_gross_pow_ele              float64\n",
              "margin_net_pow_ele                float64\n",
              "nb_prod_act                         int64\n",
              "net_margin                        float64\n",
              "num_years_antig                     int64\n",
              "origin_up                          object\n",
              "pow_max                           float64\n",
              "churn                               int64\n",
              "dtype: object"
            ]
          },
          "metadata": {},
          "execution_count": 5
        }
      ]
    },
    {
      "cell_type": "code",
      "source": [
        "df2.dtypes"
      ],
      "metadata": {
        "colab": {
          "base_uri": "https://localhost:8080/"
        },
        "id": "WeZ2BFtZdF0Q",
        "outputId": "ee77354f-2120-45f0-dde6-0a20853f1411"
      },
      "execution_count": null,
      "outputs": [
        {
          "output_type": "execute_result",
          "data": {
            "text/plain": [
              "id                     object\n",
              "price_date             object\n",
              "price_off_peak_var    float64\n",
              "price_peak_var        float64\n",
              "price_mid_peak_var    float64\n",
              "price_off_peak_fix    float64\n",
              "price_peak_fix        float64\n",
              "price_mid_peak_fix    float64\n",
              "dtype: object"
            ]
          },
          "metadata": {},
          "execution_count": 6
        }
      ]
    },
    {
      "cell_type": "code",
      "source": [
        "df1.churn.value_counts()"
      ],
      "metadata": {
        "colab": {
          "base_uri": "https://localhost:8080/"
        },
        "id": "S44itBmQdRgj",
        "outputId": "14ab5069-61c2-4645-a55d-593ee1fa15ee"
      },
      "execution_count": null,
      "outputs": [
        {
          "output_type": "execute_result",
          "data": {
            "text/plain": [
              "0    13187\n",
              "1     1419\n",
              "Name: churn, dtype: int64"
            ]
          },
          "metadata": {},
          "execution_count": 7
        }
      ]
    },
    {
      "cell_type": "code",
      "source": [
        "df3 = pd.merge(df1,df2)"
      ],
      "metadata": {
        "id": "qh7yfzN8dcTL"
      },
      "execution_count": null,
      "outputs": []
    },
    {
      "cell_type": "code",
      "source": [
        "df3.head()"
      ],
      "metadata": {
        "colab": {
          "base_uri": "https://localhost:8080/",
          "height": 386
        },
        "id": "OH7SqVjhfS6d",
        "outputId": "542ef0b0-ce10-4236-dd3a-f638f57aca3c"
      },
      "execution_count": null,
      "outputs": [
        {
          "output_type": "execute_result",
          "data": {
            "text/plain": [
              "                                 id                     channel_sales  \\\n",
              "0  24011ae4ebbe3035111d65fa7c15bc57  foosdfpfkusacimwkcsosbicdxkicaua   \n",
              "1  24011ae4ebbe3035111d65fa7c15bc57  foosdfpfkusacimwkcsosbicdxkicaua   \n",
              "2  24011ae4ebbe3035111d65fa7c15bc57  foosdfpfkusacimwkcsosbicdxkicaua   \n",
              "3  24011ae4ebbe3035111d65fa7c15bc57  foosdfpfkusacimwkcsosbicdxkicaua   \n",
              "4  24011ae4ebbe3035111d65fa7c15bc57  foosdfpfkusacimwkcsosbicdxkicaua   \n",
              "\n",
              "   cons_12m  cons_gas_12m  cons_last_month  date_activ    date_end  \\\n",
              "0         0         54946                0  15-06-2013  15-06-2016   \n",
              "1         0         54946                0  15-06-2013  15-06-2016   \n",
              "2         0         54946                0  15-06-2013  15-06-2016   \n",
              "3         0         54946                0  15-06-2013  15-06-2016   \n",
              "4         0         54946                0  15-06-2013  15-06-2016   \n",
              "\n",
              "  date_modif_prod date_renewal  forecast_cons_12m  ...  \\\n",
              "0      01-11-2015   23-06-2015                0.0  ...   \n",
              "1      01-11-2015   23-06-2015                0.0  ...   \n",
              "2      01-11-2015   23-06-2015                0.0  ...   \n",
              "3      01-11-2015   23-06-2015                0.0  ...   \n",
              "4      01-11-2015   23-06-2015                0.0  ...   \n",
              "\n",
              "                          origin_up  pow_max  churn  price_date  \\\n",
              "0  lxidpiddsbxsbosboudacockeimpuepw   43.648      1  01-01-2015   \n",
              "1  lxidpiddsbxsbosboudacockeimpuepw   43.648      1  01-02-2015   \n",
              "2  lxidpiddsbxsbosboudacockeimpuepw   43.648      1  01-03-2015   \n",
              "3  lxidpiddsbxsbosboudacockeimpuepw   43.648      1  01-04-2015   \n",
              "4  lxidpiddsbxsbosboudacockeimpuepw   43.648      1  01-05-2015   \n",
              "\n",
              "   price_off_peak_var  price_peak_var price_mid_peak_var  price_off_peak_fix  \\\n",
              "0            0.125976        0.103395           0.071536           40.565969   \n",
              "1            0.125976        0.103395           0.071536           40.565969   \n",
              "2            0.125976        0.103395           0.071536           40.565973   \n",
              "3            0.125976        0.103395           0.071536           40.565973   \n",
              "4            0.125976        0.103395           0.071536           40.565973   \n",
              "\n",
              "   price_peak_fix  price_mid_peak_fix  \n",
              "0       24.339581           16.226389  \n",
              "1       24.339581           16.226389  \n",
              "2       24.339578           16.226383  \n",
              "3       24.339578           16.226383  \n",
              "4       24.339578           16.226383  \n",
              "\n",
              "[5 rows x 33 columns]"
            ],
            "text/html": [
              "\n",
              "  <div id=\"df-8f8b54d5-40ec-4de7-a1b3-a0e87d4465f0\">\n",
              "    <div class=\"colab-df-container\">\n",
              "      <div>\n",
              "<style scoped>\n",
              "    .dataframe tbody tr th:only-of-type {\n",
              "        vertical-align: middle;\n",
              "    }\n",
              "\n",
              "    .dataframe tbody tr th {\n",
              "        vertical-align: top;\n",
              "    }\n",
              "\n",
              "    .dataframe thead th {\n",
              "        text-align: right;\n",
              "    }\n",
              "</style>\n",
              "<table border=\"1\" class=\"dataframe\">\n",
              "  <thead>\n",
              "    <tr style=\"text-align: right;\">\n",
              "      <th></th>\n",
              "      <th>id</th>\n",
              "      <th>channel_sales</th>\n",
              "      <th>cons_12m</th>\n",
              "      <th>cons_gas_12m</th>\n",
              "      <th>cons_last_month</th>\n",
              "      <th>date_activ</th>\n",
              "      <th>date_end</th>\n",
              "      <th>date_modif_prod</th>\n",
              "      <th>date_renewal</th>\n",
              "      <th>forecast_cons_12m</th>\n",
              "      <th>...</th>\n",
              "      <th>origin_up</th>\n",
              "      <th>pow_max</th>\n",
              "      <th>churn</th>\n",
              "      <th>price_date</th>\n",
              "      <th>price_off_peak_var</th>\n",
              "      <th>price_peak_var</th>\n",
              "      <th>price_mid_peak_var</th>\n",
              "      <th>price_off_peak_fix</th>\n",
              "      <th>price_peak_fix</th>\n",
              "      <th>price_mid_peak_fix</th>\n",
              "    </tr>\n",
              "  </thead>\n",
              "  <tbody>\n",
              "    <tr>\n",
              "      <th>0</th>\n",
              "      <td>24011ae4ebbe3035111d65fa7c15bc57</td>\n",
              "      <td>foosdfpfkusacimwkcsosbicdxkicaua</td>\n",
              "      <td>0</td>\n",
              "      <td>54946</td>\n",
              "      <td>0</td>\n",
              "      <td>15-06-2013</td>\n",
              "      <td>15-06-2016</td>\n",
              "      <td>01-11-2015</td>\n",
              "      <td>23-06-2015</td>\n",
              "      <td>0.0</td>\n",
              "      <td>...</td>\n",
              "      <td>lxidpiddsbxsbosboudacockeimpuepw</td>\n",
              "      <td>43.648</td>\n",
              "      <td>1</td>\n",
              "      <td>01-01-2015</td>\n",
              "      <td>0.125976</td>\n",
              "      <td>0.103395</td>\n",
              "      <td>0.071536</td>\n",
              "      <td>40.565969</td>\n",
              "      <td>24.339581</td>\n",
              "      <td>16.226389</td>\n",
              "    </tr>\n",
              "    <tr>\n",
              "      <th>1</th>\n",
              "      <td>24011ae4ebbe3035111d65fa7c15bc57</td>\n",
              "      <td>foosdfpfkusacimwkcsosbicdxkicaua</td>\n",
              "      <td>0</td>\n",
              "      <td>54946</td>\n",
              "      <td>0</td>\n",
              "      <td>15-06-2013</td>\n",
              "      <td>15-06-2016</td>\n",
              "      <td>01-11-2015</td>\n",
              "      <td>23-06-2015</td>\n",
              "      <td>0.0</td>\n",
              "      <td>...</td>\n",
              "      <td>lxidpiddsbxsbosboudacockeimpuepw</td>\n",
              "      <td>43.648</td>\n",
              "      <td>1</td>\n",
              "      <td>01-02-2015</td>\n",
              "      <td>0.125976</td>\n",
              "      <td>0.103395</td>\n",
              "      <td>0.071536</td>\n",
              "      <td>40.565969</td>\n",
              "      <td>24.339581</td>\n",
              "      <td>16.226389</td>\n",
              "    </tr>\n",
              "    <tr>\n",
              "      <th>2</th>\n",
              "      <td>24011ae4ebbe3035111d65fa7c15bc57</td>\n",
              "      <td>foosdfpfkusacimwkcsosbicdxkicaua</td>\n",
              "      <td>0</td>\n",
              "      <td>54946</td>\n",
              "      <td>0</td>\n",
              "      <td>15-06-2013</td>\n",
              "      <td>15-06-2016</td>\n",
              "      <td>01-11-2015</td>\n",
              "      <td>23-06-2015</td>\n",
              "      <td>0.0</td>\n",
              "      <td>...</td>\n",
              "      <td>lxidpiddsbxsbosboudacockeimpuepw</td>\n",
              "      <td>43.648</td>\n",
              "      <td>1</td>\n",
              "      <td>01-03-2015</td>\n",
              "      <td>0.125976</td>\n",
              "      <td>0.103395</td>\n",
              "      <td>0.071536</td>\n",
              "      <td>40.565973</td>\n",
              "      <td>24.339578</td>\n",
              "      <td>16.226383</td>\n",
              "    </tr>\n",
              "    <tr>\n",
              "      <th>3</th>\n",
              "      <td>24011ae4ebbe3035111d65fa7c15bc57</td>\n",
              "      <td>foosdfpfkusacimwkcsosbicdxkicaua</td>\n",
              "      <td>0</td>\n",
              "      <td>54946</td>\n",
              "      <td>0</td>\n",
              "      <td>15-06-2013</td>\n",
              "      <td>15-06-2016</td>\n",
              "      <td>01-11-2015</td>\n",
              "      <td>23-06-2015</td>\n",
              "      <td>0.0</td>\n",
              "      <td>...</td>\n",
              "      <td>lxidpiddsbxsbosboudacockeimpuepw</td>\n",
              "      <td>43.648</td>\n",
              "      <td>1</td>\n",
              "      <td>01-04-2015</td>\n",
              "      <td>0.125976</td>\n",
              "      <td>0.103395</td>\n",
              "      <td>0.071536</td>\n",
              "      <td>40.565973</td>\n",
              "      <td>24.339578</td>\n",
              "      <td>16.226383</td>\n",
              "    </tr>\n",
              "    <tr>\n",
              "      <th>4</th>\n",
              "      <td>24011ae4ebbe3035111d65fa7c15bc57</td>\n",
              "      <td>foosdfpfkusacimwkcsosbicdxkicaua</td>\n",
              "      <td>0</td>\n",
              "      <td>54946</td>\n",
              "      <td>0</td>\n",
              "      <td>15-06-2013</td>\n",
              "      <td>15-06-2016</td>\n",
              "      <td>01-11-2015</td>\n",
              "      <td>23-06-2015</td>\n",
              "      <td>0.0</td>\n",
              "      <td>...</td>\n",
              "      <td>lxidpiddsbxsbosboudacockeimpuepw</td>\n",
              "      <td>43.648</td>\n",
              "      <td>1</td>\n",
              "      <td>01-05-2015</td>\n",
              "      <td>0.125976</td>\n",
              "      <td>0.103395</td>\n",
              "      <td>0.071536</td>\n",
              "      <td>40.565973</td>\n",
              "      <td>24.339578</td>\n",
              "      <td>16.226383</td>\n",
              "    </tr>\n",
              "  </tbody>\n",
              "</table>\n",
              "<p>5 rows × 33 columns</p>\n",
              "</div>\n",
              "      <button class=\"colab-df-convert\" onclick=\"convertToInteractive('df-8f8b54d5-40ec-4de7-a1b3-a0e87d4465f0')\"\n",
              "              title=\"Convert this dataframe to an interactive table.\"\n",
              "              style=\"display:none;\">\n",
              "        \n",
              "  <svg xmlns=\"http://www.w3.org/2000/svg\" height=\"24px\"viewBox=\"0 0 24 24\"\n",
              "       width=\"24px\">\n",
              "    <path d=\"M0 0h24v24H0V0z\" fill=\"none\"/>\n",
              "    <path d=\"M18.56 5.44l.94 2.06.94-2.06 2.06-.94-2.06-.94-.94-2.06-.94 2.06-2.06.94zm-11 1L8.5 8.5l.94-2.06 2.06-.94-2.06-.94L8.5 2.5l-.94 2.06-2.06.94zm10 10l.94 2.06.94-2.06 2.06-.94-2.06-.94-.94-2.06-.94 2.06-2.06.94z\"/><path d=\"M17.41 7.96l-1.37-1.37c-.4-.4-.92-.59-1.43-.59-.52 0-1.04.2-1.43.59L10.3 9.45l-7.72 7.72c-.78.78-.78 2.05 0 2.83L4 21.41c.39.39.9.59 1.41.59.51 0 1.02-.2 1.41-.59l7.78-7.78 2.81-2.81c.8-.78.8-2.07 0-2.86zM5.41 20L4 18.59l7.72-7.72 1.47 1.35L5.41 20z\"/>\n",
              "  </svg>\n",
              "      </button>\n",
              "      \n",
              "  <style>\n",
              "    .colab-df-container {\n",
              "      display:flex;\n",
              "      flex-wrap:wrap;\n",
              "      gap: 12px;\n",
              "    }\n",
              "\n",
              "    .colab-df-convert {\n",
              "      background-color: #E8F0FE;\n",
              "      border: none;\n",
              "      border-radius: 50%;\n",
              "      cursor: pointer;\n",
              "      display: none;\n",
              "      fill: #1967D2;\n",
              "      height: 32px;\n",
              "      padding: 0 0 0 0;\n",
              "      width: 32px;\n",
              "    }\n",
              "\n",
              "    .colab-df-convert:hover {\n",
              "      background-color: #E2EBFA;\n",
              "      box-shadow: 0px 1px 2px rgba(60, 64, 67, 0.3), 0px 1px 3px 1px rgba(60, 64, 67, 0.15);\n",
              "      fill: #174EA6;\n",
              "    }\n",
              "\n",
              "    [theme=dark] .colab-df-convert {\n",
              "      background-color: #3B4455;\n",
              "      fill: #D2E3FC;\n",
              "    }\n",
              "\n",
              "    [theme=dark] .colab-df-convert:hover {\n",
              "      background-color: #434B5C;\n",
              "      box-shadow: 0px 1px 3px 1px rgba(0, 0, 0, 0.15);\n",
              "      filter: drop-shadow(0px 1px 2px rgba(0, 0, 0, 0.3));\n",
              "      fill: #FFFFFF;\n",
              "    }\n",
              "  </style>\n",
              "\n",
              "      <script>\n",
              "        const buttonEl =\n",
              "          document.querySelector('#df-8f8b54d5-40ec-4de7-a1b3-a0e87d4465f0 button.colab-df-convert');\n",
              "        buttonEl.style.display =\n",
              "          google.colab.kernel.accessAllowed ? 'block' : 'none';\n",
              "\n",
              "        async function convertToInteractive(key) {\n",
              "          const element = document.querySelector('#df-8f8b54d5-40ec-4de7-a1b3-a0e87d4465f0');\n",
              "          const dataTable =\n",
              "            await google.colab.kernel.invokeFunction('convertToInteractive',\n",
              "                                                     [key], {});\n",
              "          if (!dataTable) return;\n",
              "\n",
              "          const docLinkHtml = 'Like what you see? Visit the ' +\n",
              "            '<a target=\"_blank\" href=https://colab.research.google.com/notebooks/data_table.ipynb>data table notebook</a>'\n",
              "            + ' to learn more about interactive tables.';\n",
              "          element.innerHTML = '';\n",
              "          dataTable['output_type'] = 'display_data';\n",
              "          await google.colab.output.renderOutput(dataTable, element);\n",
              "          const docLink = document.createElement('div');\n",
              "          docLink.innerHTML = docLinkHtml;\n",
              "          element.appendChild(docLink);\n",
              "        }\n",
              "      </script>\n",
              "    </div>\n",
              "  </div>\n",
              "  "
            ]
          },
          "metadata": {},
          "execution_count": 9
        }
      ]
    },
    {
      "cell_type": "code",
      "source": [
        "df3.dtypes"
      ],
      "metadata": {
        "colab": {
          "base_uri": "https://localhost:8080/"
        },
        "id": "bRXX0ISyfUfd",
        "outputId": "c683cba3-06c6-47d7-f98a-70bde86bcc1e"
      },
      "execution_count": null,
      "outputs": [
        {
          "output_type": "execute_result",
          "data": {
            "text/plain": [
              "id                                 object\n",
              "channel_sales                      object\n",
              "cons_12m                            int64\n",
              "cons_gas_12m                        int64\n",
              "cons_last_month                     int64\n",
              "date_activ                         object\n",
              "date_end                           object\n",
              "date_modif_prod                    object\n",
              "date_renewal                       object\n",
              "forecast_cons_12m                 float64\n",
              "forecast_cons_year                  int64\n",
              "forecast_discount_energy            int64\n",
              "forecast_meter_rent_12m           float64\n",
              "forecast_price_energy_off_peak    float64\n",
              "forecast_price_energy_peak        float64\n",
              "forecast_price_pow_off_peak       float64\n",
              "has_gas                            object\n",
              "imp_cons                          float64\n",
              "margin_gross_pow_ele              float64\n",
              "margin_net_pow_ele                float64\n",
              "nb_prod_act                         int64\n",
              "net_margin                        float64\n",
              "num_years_antig                     int64\n",
              "origin_up                          object\n",
              "pow_max                           float64\n",
              "churn                               int64\n",
              "price_date                         object\n",
              "price_off_peak_var                float64\n",
              "price_peak_var                    float64\n",
              "price_mid_peak_var                float64\n",
              "price_off_peak_fix                float64\n",
              "price_peak_fix                    float64\n",
              "price_mid_peak_fix                float64\n",
              "dtype: object"
            ]
          },
          "metadata": {},
          "execution_count": 10
        }
      ]
    },
    {
      "cell_type": "code",
      "source": [
        "df3[\"date_activ\"] = pd.to_datetime(df3[\"date_activ\"], format='%d-%m-%Y')\n",
        "df3[\"date_end\"] = pd.to_datetime(df3[\"date_end\"], format='%d-%m-%Y')\n",
        "df3[\"date_modif_prod\"] = pd.to_datetime(df3[\"date_modif_prod\"], format='%d-%m-%Y')\n",
        "df3[\"date_renewal\"] = pd.to_datetime(df3[\"date_renewal\"], format='%d-%m-%Y')\n",
        "df3[\"price_date\"] = pd.to_datetime(df3[\"price_date\"], format='%d-%m-%Y')"
      ],
      "metadata": {
        "id": "UQ_VyQ6zfbG0"
      },
      "execution_count": null,
      "outputs": []
    },
    {
      "cell_type": "code",
      "source": [
        "df3.head()"
      ],
      "metadata": {
        "colab": {
          "base_uri": "https://localhost:8080/",
          "height": 386
        },
        "id": "Fz3nF98pfkDW",
        "outputId": "82b13ff5-1ad2-4815-9f91-f6dd3bcf5b85"
      },
      "execution_count": null,
      "outputs": [
        {
          "output_type": "execute_result",
          "data": {
            "text/plain": [
              "                                 id                     channel_sales  \\\n",
              "0  24011ae4ebbe3035111d65fa7c15bc57  foosdfpfkusacimwkcsosbicdxkicaua   \n",
              "1  24011ae4ebbe3035111d65fa7c15bc57  foosdfpfkusacimwkcsosbicdxkicaua   \n",
              "2  24011ae4ebbe3035111d65fa7c15bc57  foosdfpfkusacimwkcsosbicdxkicaua   \n",
              "3  24011ae4ebbe3035111d65fa7c15bc57  foosdfpfkusacimwkcsosbicdxkicaua   \n",
              "4  24011ae4ebbe3035111d65fa7c15bc57  foosdfpfkusacimwkcsosbicdxkicaua   \n",
              "\n",
              "   cons_12m  cons_gas_12m  cons_last_month date_activ   date_end  \\\n",
              "0         0         54946                0 2013-06-15 2016-06-15   \n",
              "1         0         54946                0 2013-06-15 2016-06-15   \n",
              "2         0         54946                0 2013-06-15 2016-06-15   \n",
              "3         0         54946                0 2013-06-15 2016-06-15   \n",
              "4         0         54946                0 2013-06-15 2016-06-15   \n",
              "\n",
              "  date_modif_prod date_renewal  forecast_cons_12m  ...  \\\n",
              "0      2015-11-01   2015-06-23                0.0  ...   \n",
              "1      2015-11-01   2015-06-23                0.0  ...   \n",
              "2      2015-11-01   2015-06-23                0.0  ...   \n",
              "3      2015-11-01   2015-06-23                0.0  ...   \n",
              "4      2015-11-01   2015-06-23                0.0  ...   \n",
              "\n",
              "                          origin_up  pow_max  churn  price_date  \\\n",
              "0  lxidpiddsbxsbosboudacockeimpuepw   43.648      1  2015-01-01   \n",
              "1  lxidpiddsbxsbosboudacockeimpuepw   43.648      1  2015-02-01   \n",
              "2  lxidpiddsbxsbosboudacockeimpuepw   43.648      1  2015-03-01   \n",
              "3  lxidpiddsbxsbosboudacockeimpuepw   43.648      1  2015-04-01   \n",
              "4  lxidpiddsbxsbosboudacockeimpuepw   43.648      1  2015-05-01   \n",
              "\n",
              "   price_off_peak_var  price_peak_var price_mid_peak_var  price_off_peak_fix  \\\n",
              "0            0.125976        0.103395           0.071536           40.565969   \n",
              "1            0.125976        0.103395           0.071536           40.565969   \n",
              "2            0.125976        0.103395           0.071536           40.565973   \n",
              "3            0.125976        0.103395           0.071536           40.565973   \n",
              "4            0.125976        0.103395           0.071536           40.565973   \n",
              "\n",
              "   price_peak_fix  price_mid_peak_fix  \n",
              "0       24.339581           16.226389  \n",
              "1       24.339581           16.226389  \n",
              "2       24.339578           16.226383  \n",
              "3       24.339578           16.226383  \n",
              "4       24.339578           16.226383  \n",
              "\n",
              "[5 rows x 33 columns]"
            ],
            "text/html": [
              "\n",
              "  <div id=\"df-de895654-3a7e-4597-ba26-3aac3a3fdc75\">\n",
              "    <div class=\"colab-df-container\">\n",
              "      <div>\n",
              "<style scoped>\n",
              "    .dataframe tbody tr th:only-of-type {\n",
              "        vertical-align: middle;\n",
              "    }\n",
              "\n",
              "    .dataframe tbody tr th {\n",
              "        vertical-align: top;\n",
              "    }\n",
              "\n",
              "    .dataframe thead th {\n",
              "        text-align: right;\n",
              "    }\n",
              "</style>\n",
              "<table border=\"1\" class=\"dataframe\">\n",
              "  <thead>\n",
              "    <tr style=\"text-align: right;\">\n",
              "      <th></th>\n",
              "      <th>id</th>\n",
              "      <th>channel_sales</th>\n",
              "      <th>cons_12m</th>\n",
              "      <th>cons_gas_12m</th>\n",
              "      <th>cons_last_month</th>\n",
              "      <th>date_activ</th>\n",
              "      <th>date_end</th>\n",
              "      <th>date_modif_prod</th>\n",
              "      <th>date_renewal</th>\n",
              "      <th>forecast_cons_12m</th>\n",
              "      <th>...</th>\n",
              "      <th>origin_up</th>\n",
              "      <th>pow_max</th>\n",
              "      <th>churn</th>\n",
              "      <th>price_date</th>\n",
              "      <th>price_off_peak_var</th>\n",
              "      <th>price_peak_var</th>\n",
              "      <th>price_mid_peak_var</th>\n",
              "      <th>price_off_peak_fix</th>\n",
              "      <th>price_peak_fix</th>\n",
              "      <th>price_mid_peak_fix</th>\n",
              "    </tr>\n",
              "  </thead>\n",
              "  <tbody>\n",
              "    <tr>\n",
              "      <th>0</th>\n",
              "      <td>24011ae4ebbe3035111d65fa7c15bc57</td>\n",
              "      <td>foosdfpfkusacimwkcsosbicdxkicaua</td>\n",
              "      <td>0</td>\n",
              "      <td>54946</td>\n",
              "      <td>0</td>\n",
              "      <td>2013-06-15</td>\n",
              "      <td>2016-06-15</td>\n",
              "      <td>2015-11-01</td>\n",
              "      <td>2015-06-23</td>\n",
              "      <td>0.0</td>\n",
              "      <td>...</td>\n",
              "      <td>lxidpiddsbxsbosboudacockeimpuepw</td>\n",
              "      <td>43.648</td>\n",
              "      <td>1</td>\n",
              "      <td>2015-01-01</td>\n",
              "      <td>0.125976</td>\n",
              "      <td>0.103395</td>\n",
              "      <td>0.071536</td>\n",
              "      <td>40.565969</td>\n",
              "      <td>24.339581</td>\n",
              "      <td>16.226389</td>\n",
              "    </tr>\n",
              "    <tr>\n",
              "      <th>1</th>\n",
              "      <td>24011ae4ebbe3035111d65fa7c15bc57</td>\n",
              "      <td>foosdfpfkusacimwkcsosbicdxkicaua</td>\n",
              "      <td>0</td>\n",
              "      <td>54946</td>\n",
              "      <td>0</td>\n",
              "      <td>2013-06-15</td>\n",
              "      <td>2016-06-15</td>\n",
              "      <td>2015-11-01</td>\n",
              "      <td>2015-06-23</td>\n",
              "      <td>0.0</td>\n",
              "      <td>...</td>\n",
              "      <td>lxidpiddsbxsbosboudacockeimpuepw</td>\n",
              "      <td>43.648</td>\n",
              "      <td>1</td>\n",
              "      <td>2015-02-01</td>\n",
              "      <td>0.125976</td>\n",
              "      <td>0.103395</td>\n",
              "      <td>0.071536</td>\n",
              "      <td>40.565969</td>\n",
              "      <td>24.339581</td>\n",
              "      <td>16.226389</td>\n",
              "    </tr>\n",
              "    <tr>\n",
              "      <th>2</th>\n",
              "      <td>24011ae4ebbe3035111d65fa7c15bc57</td>\n",
              "      <td>foosdfpfkusacimwkcsosbicdxkicaua</td>\n",
              "      <td>0</td>\n",
              "      <td>54946</td>\n",
              "      <td>0</td>\n",
              "      <td>2013-06-15</td>\n",
              "      <td>2016-06-15</td>\n",
              "      <td>2015-11-01</td>\n",
              "      <td>2015-06-23</td>\n",
              "      <td>0.0</td>\n",
              "      <td>...</td>\n",
              "      <td>lxidpiddsbxsbosboudacockeimpuepw</td>\n",
              "      <td>43.648</td>\n",
              "      <td>1</td>\n",
              "      <td>2015-03-01</td>\n",
              "      <td>0.125976</td>\n",
              "      <td>0.103395</td>\n",
              "      <td>0.071536</td>\n",
              "      <td>40.565973</td>\n",
              "      <td>24.339578</td>\n",
              "      <td>16.226383</td>\n",
              "    </tr>\n",
              "    <tr>\n",
              "      <th>3</th>\n",
              "      <td>24011ae4ebbe3035111d65fa7c15bc57</td>\n",
              "      <td>foosdfpfkusacimwkcsosbicdxkicaua</td>\n",
              "      <td>0</td>\n",
              "      <td>54946</td>\n",
              "      <td>0</td>\n",
              "      <td>2013-06-15</td>\n",
              "      <td>2016-06-15</td>\n",
              "      <td>2015-11-01</td>\n",
              "      <td>2015-06-23</td>\n",
              "      <td>0.0</td>\n",
              "      <td>...</td>\n",
              "      <td>lxidpiddsbxsbosboudacockeimpuepw</td>\n",
              "      <td>43.648</td>\n",
              "      <td>1</td>\n",
              "      <td>2015-04-01</td>\n",
              "      <td>0.125976</td>\n",
              "      <td>0.103395</td>\n",
              "      <td>0.071536</td>\n",
              "      <td>40.565973</td>\n",
              "      <td>24.339578</td>\n",
              "      <td>16.226383</td>\n",
              "    </tr>\n",
              "    <tr>\n",
              "      <th>4</th>\n",
              "      <td>24011ae4ebbe3035111d65fa7c15bc57</td>\n",
              "      <td>foosdfpfkusacimwkcsosbicdxkicaua</td>\n",
              "      <td>0</td>\n",
              "      <td>54946</td>\n",
              "      <td>0</td>\n",
              "      <td>2013-06-15</td>\n",
              "      <td>2016-06-15</td>\n",
              "      <td>2015-11-01</td>\n",
              "      <td>2015-06-23</td>\n",
              "      <td>0.0</td>\n",
              "      <td>...</td>\n",
              "      <td>lxidpiddsbxsbosboudacockeimpuepw</td>\n",
              "      <td>43.648</td>\n",
              "      <td>1</td>\n",
              "      <td>2015-05-01</td>\n",
              "      <td>0.125976</td>\n",
              "      <td>0.103395</td>\n",
              "      <td>0.071536</td>\n",
              "      <td>40.565973</td>\n",
              "      <td>24.339578</td>\n",
              "      <td>16.226383</td>\n",
              "    </tr>\n",
              "  </tbody>\n",
              "</table>\n",
              "<p>5 rows × 33 columns</p>\n",
              "</div>\n",
              "      <button class=\"colab-df-convert\" onclick=\"convertToInteractive('df-de895654-3a7e-4597-ba26-3aac3a3fdc75')\"\n",
              "              title=\"Convert this dataframe to an interactive table.\"\n",
              "              style=\"display:none;\">\n",
              "        \n",
              "  <svg xmlns=\"http://www.w3.org/2000/svg\" height=\"24px\"viewBox=\"0 0 24 24\"\n",
              "       width=\"24px\">\n",
              "    <path d=\"M0 0h24v24H0V0z\" fill=\"none\"/>\n",
              "    <path d=\"M18.56 5.44l.94 2.06.94-2.06 2.06-.94-2.06-.94-.94-2.06-.94 2.06-2.06.94zm-11 1L8.5 8.5l.94-2.06 2.06-.94-2.06-.94L8.5 2.5l-.94 2.06-2.06.94zm10 10l.94 2.06.94-2.06 2.06-.94-2.06-.94-.94-2.06-.94 2.06-2.06.94z\"/><path d=\"M17.41 7.96l-1.37-1.37c-.4-.4-.92-.59-1.43-.59-.52 0-1.04.2-1.43.59L10.3 9.45l-7.72 7.72c-.78.78-.78 2.05 0 2.83L4 21.41c.39.39.9.59 1.41.59.51 0 1.02-.2 1.41-.59l7.78-7.78 2.81-2.81c.8-.78.8-2.07 0-2.86zM5.41 20L4 18.59l7.72-7.72 1.47 1.35L5.41 20z\"/>\n",
              "  </svg>\n",
              "      </button>\n",
              "      \n",
              "  <style>\n",
              "    .colab-df-container {\n",
              "      display:flex;\n",
              "      flex-wrap:wrap;\n",
              "      gap: 12px;\n",
              "    }\n",
              "\n",
              "    .colab-df-convert {\n",
              "      background-color: #E8F0FE;\n",
              "      border: none;\n",
              "      border-radius: 50%;\n",
              "      cursor: pointer;\n",
              "      display: none;\n",
              "      fill: #1967D2;\n",
              "      height: 32px;\n",
              "      padding: 0 0 0 0;\n",
              "      width: 32px;\n",
              "    }\n",
              "\n",
              "    .colab-df-convert:hover {\n",
              "      background-color: #E2EBFA;\n",
              "      box-shadow: 0px 1px 2px rgba(60, 64, 67, 0.3), 0px 1px 3px 1px rgba(60, 64, 67, 0.15);\n",
              "      fill: #174EA6;\n",
              "    }\n",
              "\n",
              "    [theme=dark] .colab-df-convert {\n",
              "      background-color: #3B4455;\n",
              "      fill: #D2E3FC;\n",
              "    }\n",
              "\n",
              "    [theme=dark] .colab-df-convert:hover {\n",
              "      background-color: #434B5C;\n",
              "      box-shadow: 0px 1px 3px 1px rgba(0, 0, 0, 0.15);\n",
              "      filter: drop-shadow(0px 1px 2px rgba(0, 0, 0, 0.3));\n",
              "      fill: #FFFFFF;\n",
              "    }\n",
              "  </style>\n",
              "\n",
              "      <script>\n",
              "        const buttonEl =\n",
              "          document.querySelector('#df-de895654-3a7e-4597-ba26-3aac3a3fdc75 button.colab-df-convert');\n",
              "        buttonEl.style.display =\n",
              "          google.colab.kernel.accessAllowed ? 'block' : 'none';\n",
              "\n",
              "        async function convertToInteractive(key) {\n",
              "          const element = document.querySelector('#df-de895654-3a7e-4597-ba26-3aac3a3fdc75');\n",
              "          const dataTable =\n",
              "            await google.colab.kernel.invokeFunction('convertToInteractive',\n",
              "                                                     [key], {});\n",
              "          if (!dataTable) return;\n",
              "\n",
              "          const docLinkHtml = 'Like what you see? Visit the ' +\n",
              "            '<a target=\"_blank\" href=https://colab.research.google.com/notebooks/data_table.ipynb>data table notebook</a>'\n",
              "            + ' to learn more about interactive tables.';\n",
              "          element.innerHTML = '';\n",
              "          dataTable['output_type'] = 'display_data';\n",
              "          await google.colab.output.renderOutput(dataTable, element);\n",
              "          const docLink = document.createElement('div');\n",
              "          docLink.innerHTML = docLinkHtml;\n",
              "          element.appendChild(docLink);\n",
              "        }\n",
              "      </script>\n",
              "    </div>\n",
              "  </div>\n",
              "  "
            ]
          },
          "metadata": {},
          "execution_count": 20
        }
      ]
    },
    {
      "cell_type": "code",
      "source": [
        "df3.dtypes"
      ],
      "metadata": {
        "colab": {
          "base_uri": "https://localhost:8080/"
        },
        "id": "rOpcXxjOgHOM",
        "outputId": "76c0916b-2f9d-4c68-8de5-f5f4b7fa2440"
      },
      "execution_count": null,
      "outputs": [
        {
          "output_type": "execute_result",
          "data": {
            "text/plain": [
              "id                                        object\n",
              "channel_sales                             object\n",
              "cons_12m                                   int64\n",
              "cons_gas_12m                               int64\n",
              "cons_last_month                            int64\n",
              "date_activ                        datetime64[ns]\n",
              "date_end                          datetime64[ns]\n",
              "date_modif_prod                   datetime64[ns]\n",
              "date_renewal                      datetime64[ns]\n",
              "forecast_cons_12m                        float64\n",
              "forecast_cons_year                         int64\n",
              "forecast_discount_energy                   int64\n",
              "forecast_meter_rent_12m                  float64\n",
              "forecast_price_energy_off_peak           float64\n",
              "forecast_price_energy_peak               float64\n",
              "forecast_price_pow_off_peak              float64\n",
              "has_gas                                   object\n",
              "imp_cons                                 float64\n",
              "margin_gross_pow_ele                     float64\n",
              "margin_net_pow_ele                       float64\n",
              "nb_prod_act                                int64\n",
              "net_margin                               float64\n",
              "num_years_antig                            int64\n",
              "origin_up                                 object\n",
              "pow_max                                  float64\n",
              "churn                                      int64\n",
              "price_date                        datetime64[ns]\n",
              "price_off_peak_var                       float64\n",
              "price_peak_var                           float64\n",
              "price_mid_peak_var                       float64\n",
              "price_off_peak_fix                       float64\n",
              "price_peak_fix                           float64\n",
              "price_mid_peak_fix                       float64\n",
              "dtype: object"
            ]
          },
          "metadata": {},
          "execution_count": 21
        }
      ]
    },
    {
      "cell_type": "code",
      "source": [
        "monthly_price_by_id = df3.groupby(['id', 'price_date']).agg({'price_off_peak_var': 'mean', 'price_off_peak_fix': 'mean'}).reset_index()\n"
      ],
      "metadata": {
        "id": "pDzrGDE1gLLM"
      },
      "execution_count": null,
      "outputs": []
    },
    {
      "cell_type": "code",
      "source": [
        "jan_prices = monthly_price_by_id.groupby('id').first().reset_index()\n",
        "dec_prices = monthly_price_by_id.groupby('id').last().reset_index()\n"
      ],
      "metadata": {
        "id": "shQ08F3cg9ER"
      },
      "execution_count": null,
      "outputs": []
    },
    {
      "cell_type": "code",
      "source": [
        "\n",
        "diff = pd.merge(dec_prices.rename(columns={'price_off_peak_var': 'dec_1','price_off_peak_fix': 'dec_2'}),\\\n",
        "                jan_prices.drop(columns='price_date'),on='id')\n",
        "diff['offpeak_diff_dec_january_energy'] = diff['dec_1'] -diff['price_off_peak_var']\n",
        "diff['offpeak_diff_dec_january_power'] = diff['dec_2'] -diff['price_off_peak_fix']\n",
        "diff = diff[['id','offpeak_diff_dec_january_energy','offpeak_diff_dec_january_power']]\n",
        "diff.head()"
      ],
      "metadata": {
        "colab": {
          "base_uri": "https://localhost:8080/",
          "height": 206
        },
        "id": "fu7CqwEihC8S",
        "outputId": "5a158fa5-03be-43e5-8dab-9614a1a3e6d5"
      },
      "execution_count": null,
      "outputs": [
        {
          "output_type": "execute_result",
          "data": {
            "text/plain": [
              "                                 id  offpeak_diff_dec_january_energy  \\\n",
              "0  0002203ffbb812588b632b9e628cc38d                        -0.006192   \n",
              "1  0004351ebdd665e6ee664792efc4fd13                        -0.004104   \n",
              "2  0010bcc39e42b3c2131ed2ce55246e3c                         0.050443   \n",
              "3  00114d74e963e47177db89bc70108537                        -0.003994   \n",
              "4  0013f326a839a2f6ad87a1859952d227                        -0.006171   \n",
              "\n",
              "   offpeak_diff_dec_january_power  \n",
              "0                        0.162916  \n",
              "1                        0.177779  \n",
              "2                        1.500000  \n",
              "3                       -0.000001  \n",
              "4                        0.000000  "
            ],
            "text/html": [
              "\n",
              "  <div id=\"df-c1753be6-4353-42dd-bf33-0a7e63066751\">\n",
              "    <div class=\"colab-df-container\">\n",
              "      <div>\n",
              "<style scoped>\n",
              "    .dataframe tbody tr th:only-of-type {\n",
              "        vertical-align: middle;\n",
              "    }\n",
              "\n",
              "    .dataframe tbody tr th {\n",
              "        vertical-align: top;\n",
              "    }\n",
              "\n",
              "    .dataframe thead th {\n",
              "        text-align: right;\n",
              "    }\n",
              "</style>\n",
              "<table border=\"1\" class=\"dataframe\">\n",
              "  <thead>\n",
              "    <tr style=\"text-align: right;\">\n",
              "      <th></th>\n",
              "      <th>id</th>\n",
              "      <th>offpeak_diff_dec_january_energy</th>\n",
              "      <th>offpeak_diff_dec_january_power</th>\n",
              "    </tr>\n",
              "  </thead>\n",
              "  <tbody>\n",
              "    <tr>\n",
              "      <th>0</th>\n",
              "      <td>0002203ffbb812588b632b9e628cc38d</td>\n",
              "      <td>-0.006192</td>\n",
              "      <td>0.162916</td>\n",
              "    </tr>\n",
              "    <tr>\n",
              "      <th>1</th>\n",
              "      <td>0004351ebdd665e6ee664792efc4fd13</td>\n",
              "      <td>-0.004104</td>\n",
              "      <td>0.177779</td>\n",
              "    </tr>\n",
              "    <tr>\n",
              "      <th>2</th>\n",
              "      <td>0010bcc39e42b3c2131ed2ce55246e3c</td>\n",
              "      <td>0.050443</td>\n",
              "      <td>1.500000</td>\n",
              "    </tr>\n",
              "    <tr>\n",
              "      <th>3</th>\n",
              "      <td>00114d74e963e47177db89bc70108537</td>\n",
              "      <td>-0.003994</td>\n",
              "      <td>-0.000001</td>\n",
              "    </tr>\n",
              "    <tr>\n",
              "      <th>4</th>\n",
              "      <td>0013f326a839a2f6ad87a1859952d227</td>\n",
              "      <td>-0.006171</td>\n",
              "      <td>0.000000</td>\n",
              "    </tr>\n",
              "  </tbody>\n",
              "</table>\n",
              "</div>\n",
              "      <button class=\"colab-df-convert\" onclick=\"convertToInteractive('df-c1753be6-4353-42dd-bf33-0a7e63066751')\"\n",
              "              title=\"Convert this dataframe to an interactive table.\"\n",
              "              style=\"display:none;\">\n",
              "        \n",
              "  <svg xmlns=\"http://www.w3.org/2000/svg\" height=\"24px\"viewBox=\"0 0 24 24\"\n",
              "       width=\"24px\">\n",
              "    <path d=\"M0 0h24v24H0V0z\" fill=\"none\"/>\n",
              "    <path d=\"M18.56 5.44l.94 2.06.94-2.06 2.06-.94-2.06-.94-.94-2.06-.94 2.06-2.06.94zm-11 1L8.5 8.5l.94-2.06 2.06-.94-2.06-.94L8.5 2.5l-.94 2.06-2.06.94zm10 10l.94 2.06.94-2.06 2.06-.94-2.06-.94-.94-2.06-.94 2.06-2.06.94z\"/><path d=\"M17.41 7.96l-1.37-1.37c-.4-.4-.92-.59-1.43-.59-.52 0-1.04.2-1.43.59L10.3 9.45l-7.72 7.72c-.78.78-.78 2.05 0 2.83L4 21.41c.39.39.9.59 1.41.59.51 0 1.02-.2 1.41-.59l7.78-7.78 2.81-2.81c.8-.78.8-2.07 0-2.86zM5.41 20L4 18.59l7.72-7.72 1.47 1.35L5.41 20z\"/>\n",
              "  </svg>\n",
              "      </button>\n",
              "      \n",
              "  <style>\n",
              "    .colab-df-container {\n",
              "      display:flex;\n",
              "      flex-wrap:wrap;\n",
              "      gap: 12px;\n",
              "    }\n",
              "\n",
              "    .colab-df-convert {\n",
              "      background-color: #E8F0FE;\n",
              "      border: none;\n",
              "      border-radius: 50%;\n",
              "      cursor: pointer;\n",
              "      display: none;\n",
              "      fill: #1967D2;\n",
              "      height: 32px;\n",
              "      padding: 0 0 0 0;\n",
              "      width: 32px;\n",
              "    }\n",
              "\n",
              "    .colab-df-convert:hover {\n",
              "      background-color: #E2EBFA;\n",
              "      box-shadow: 0px 1px 2px rgba(60, 64, 67, 0.3), 0px 1px 3px 1px rgba(60, 64, 67, 0.15);\n",
              "      fill: #174EA6;\n",
              "    }\n",
              "\n",
              "    [theme=dark] .colab-df-convert {\n",
              "      background-color: #3B4455;\n",
              "      fill: #D2E3FC;\n",
              "    }\n",
              "\n",
              "    [theme=dark] .colab-df-convert:hover {\n",
              "      background-color: #434B5C;\n",
              "      box-shadow: 0px 1px 3px 1px rgba(0, 0, 0, 0.15);\n",
              "      filter: drop-shadow(0px 1px 2px rgba(0, 0, 0, 0.3));\n",
              "      fill: #FFFFFF;\n",
              "    }\n",
              "  </style>\n",
              "\n",
              "      <script>\n",
              "        const buttonEl =\n",
              "          document.querySelector('#df-c1753be6-4353-42dd-bf33-0a7e63066751 button.colab-df-convert');\n",
              "        buttonEl.style.display =\n",
              "          google.colab.kernel.accessAllowed ? 'block' : 'none';\n",
              "\n",
              "        async function convertToInteractive(key) {\n",
              "          const element = document.querySelector('#df-c1753be6-4353-42dd-bf33-0a7e63066751');\n",
              "          const dataTable =\n",
              "            await google.colab.kernel.invokeFunction('convertToInteractive',\n",
              "                                                     [key], {});\n",
              "          if (!dataTable) return;\n",
              "\n",
              "          const docLinkHtml = 'Like what you see? Visit the ' +\n",
              "            '<a target=\"_blank\" href=https://colab.research.google.com/notebooks/data_table.ipynb>data table notebook</a>'\n",
              "            + ' to learn more about interactive tables.';\n",
              "          element.innerHTML = '';\n",
              "          dataTable['output_type'] = 'display_data';\n",
              "          await google.colab.output.renderOutput(dataTable, element);\n",
              "          const docLink = document.createElement('div');\n",
              "          docLink.innerHTML = docLinkHtml;\n",
              "          element.appendChild(docLink);\n",
              "        }\n",
              "      </script>\n",
              "    </div>\n",
              "  </div>\n",
              "  "
            ]
          },
          "metadata": {},
          "execution_count": 24
        }
      ]
    },
    {
      "cell_type": "code",
      "source": [
        "df4 = pd.merge(diff, df3['id','churn'])"
      ],
      "metadata": {
        "colab": {
          "base_uri": "https://localhost:8080/",
          "height": 502
        },
        "id": "lhkXBzpXhmyK",
        "outputId": "5ebd8442-444a-487c-9e2e-1e65235489c7"
      },
      "execution_count": null,
      "outputs": [
        {
          "output_type": "error",
          "ename": "KeyError",
          "evalue": "ignored",
          "traceback": [
            "\u001b[0;31m---------------------------------------------------------------------------\u001b[0m",
            "\u001b[0;31mKeyError\u001b[0m                                  Traceback (most recent call last)",
            "\u001b[0;32m/usr/local/lib/python3.10/dist-packages/pandas/core/indexes/base.py\u001b[0m in \u001b[0;36mget_loc\u001b[0;34m(self, key, method, tolerance)\u001b[0m\n\u001b[1;32m   3801\u001b[0m             \u001b[0;32mtry\u001b[0m\u001b[0;34m:\u001b[0m\u001b[0;34m\u001b[0m\u001b[0;34m\u001b[0m\u001b[0m\n\u001b[0;32m-> 3802\u001b[0;31m                 \u001b[0;32mreturn\u001b[0m \u001b[0mself\u001b[0m\u001b[0;34m.\u001b[0m\u001b[0m_engine\u001b[0m\u001b[0;34m.\u001b[0m\u001b[0mget_loc\u001b[0m\u001b[0;34m(\u001b[0m\u001b[0mcasted_key\u001b[0m\u001b[0;34m)\u001b[0m\u001b[0;34m\u001b[0m\u001b[0;34m\u001b[0m\u001b[0m\n\u001b[0m\u001b[1;32m   3803\u001b[0m             \u001b[0;32mexcept\u001b[0m \u001b[0mKeyError\u001b[0m \u001b[0;32mas\u001b[0m \u001b[0merr\u001b[0m\u001b[0;34m:\u001b[0m\u001b[0;34m\u001b[0m\u001b[0;34m\u001b[0m\u001b[0m\n",
            "\u001b[0;32m/usr/local/lib/python3.10/dist-packages/pandas/_libs/index.pyx\u001b[0m in \u001b[0;36mpandas._libs.index.IndexEngine.get_loc\u001b[0;34m()\u001b[0m\n",
            "\u001b[0;32m/usr/local/lib/python3.10/dist-packages/pandas/_libs/index.pyx\u001b[0m in \u001b[0;36mpandas._libs.index.IndexEngine.get_loc\u001b[0;34m()\u001b[0m\n",
            "\u001b[0;32mpandas/_libs/hashtable_class_helper.pxi\u001b[0m in \u001b[0;36mpandas._libs.hashtable.PyObjectHashTable.get_item\u001b[0;34m()\u001b[0m\n",
            "\u001b[0;32mpandas/_libs/hashtable_class_helper.pxi\u001b[0m in \u001b[0;36mpandas._libs.hashtable.PyObjectHashTable.get_item\u001b[0;34m()\u001b[0m\n",
            "\u001b[0;31mKeyError\u001b[0m: ('id', 'churn')",
            "\nThe above exception was the direct cause of the following exception:\n",
            "\u001b[0;31mKeyError\u001b[0m                                  Traceback (most recent call last)",
            "\u001b[0;32m<ipython-input-27-a01ffc7a199c>\u001b[0m in \u001b[0;36m<cell line: 1>\u001b[0;34m()\u001b[0m\n\u001b[0;32m----> 1\u001b[0;31m \u001b[0mdf4\u001b[0m \u001b[0;34m=\u001b[0m \u001b[0mpd\u001b[0m\u001b[0;34m.\u001b[0m\u001b[0mmerge\u001b[0m\u001b[0;34m(\u001b[0m\u001b[0mdiff\u001b[0m\u001b[0;34m,\u001b[0m \u001b[0mdf3\u001b[0m\u001b[0;34m[\u001b[0m\u001b[0;34m'id'\u001b[0m\u001b[0;34m,\u001b[0m\u001b[0;34m'churn'\u001b[0m\u001b[0;34m]\u001b[0m\u001b[0;34m)\u001b[0m\u001b[0;34m\u001b[0m\u001b[0;34m\u001b[0m\u001b[0m\n\u001b[0m",
            "\u001b[0;32m/usr/local/lib/python3.10/dist-packages/pandas/core/frame.py\u001b[0m in \u001b[0;36m__getitem__\u001b[0;34m(self, key)\u001b[0m\n\u001b[1;32m   3805\u001b[0m             \u001b[0;32mif\u001b[0m \u001b[0mself\u001b[0m\u001b[0;34m.\u001b[0m\u001b[0mcolumns\u001b[0m\u001b[0;34m.\u001b[0m\u001b[0mnlevels\u001b[0m \u001b[0;34m>\u001b[0m \u001b[0;36m1\u001b[0m\u001b[0;34m:\u001b[0m\u001b[0;34m\u001b[0m\u001b[0;34m\u001b[0m\u001b[0m\n\u001b[1;32m   3806\u001b[0m                 \u001b[0;32mreturn\u001b[0m \u001b[0mself\u001b[0m\u001b[0;34m.\u001b[0m\u001b[0m_getitem_multilevel\u001b[0m\u001b[0;34m(\u001b[0m\u001b[0mkey\u001b[0m\u001b[0;34m)\u001b[0m\u001b[0;34m\u001b[0m\u001b[0;34m\u001b[0m\u001b[0m\n\u001b[0;32m-> 3807\u001b[0;31m             \u001b[0mindexer\u001b[0m \u001b[0;34m=\u001b[0m \u001b[0mself\u001b[0m\u001b[0;34m.\u001b[0m\u001b[0mcolumns\u001b[0m\u001b[0;34m.\u001b[0m\u001b[0mget_loc\u001b[0m\u001b[0;34m(\u001b[0m\u001b[0mkey\u001b[0m\u001b[0;34m)\u001b[0m\u001b[0;34m\u001b[0m\u001b[0;34m\u001b[0m\u001b[0m\n\u001b[0m\u001b[1;32m   3808\u001b[0m             \u001b[0;32mif\u001b[0m \u001b[0mis_integer\u001b[0m\u001b[0;34m(\u001b[0m\u001b[0mindexer\u001b[0m\u001b[0;34m)\u001b[0m\u001b[0;34m:\u001b[0m\u001b[0;34m\u001b[0m\u001b[0;34m\u001b[0m\u001b[0m\n\u001b[1;32m   3809\u001b[0m                 \u001b[0mindexer\u001b[0m \u001b[0;34m=\u001b[0m \u001b[0;34m[\u001b[0m\u001b[0mindexer\u001b[0m\u001b[0;34m]\u001b[0m\u001b[0;34m\u001b[0m\u001b[0;34m\u001b[0m\u001b[0m\n",
            "\u001b[0;32m/usr/local/lib/python3.10/dist-packages/pandas/core/indexes/base.py\u001b[0m in \u001b[0;36mget_loc\u001b[0;34m(self, key, method, tolerance)\u001b[0m\n\u001b[1;32m   3802\u001b[0m                 \u001b[0;32mreturn\u001b[0m \u001b[0mself\u001b[0m\u001b[0;34m.\u001b[0m\u001b[0m_engine\u001b[0m\u001b[0;34m.\u001b[0m\u001b[0mget_loc\u001b[0m\u001b[0;34m(\u001b[0m\u001b[0mcasted_key\u001b[0m\u001b[0;34m)\u001b[0m\u001b[0;34m\u001b[0m\u001b[0;34m\u001b[0m\u001b[0m\n\u001b[1;32m   3803\u001b[0m             \u001b[0;32mexcept\u001b[0m \u001b[0mKeyError\u001b[0m \u001b[0;32mas\u001b[0m \u001b[0merr\u001b[0m\u001b[0;34m:\u001b[0m\u001b[0;34m\u001b[0m\u001b[0;34m\u001b[0m\u001b[0m\n\u001b[0;32m-> 3804\u001b[0;31m                 \u001b[0;32mraise\u001b[0m \u001b[0mKeyError\u001b[0m\u001b[0;34m(\u001b[0m\u001b[0mkey\u001b[0m\u001b[0;34m)\u001b[0m \u001b[0;32mfrom\u001b[0m \u001b[0merr\u001b[0m\u001b[0;34m\u001b[0m\u001b[0;34m\u001b[0m\u001b[0m\n\u001b[0m\u001b[1;32m   3805\u001b[0m             \u001b[0;32mexcept\u001b[0m \u001b[0mTypeError\u001b[0m\u001b[0;34m:\u001b[0m\u001b[0;34m\u001b[0m\u001b[0;34m\u001b[0m\u001b[0m\n\u001b[1;32m   3806\u001b[0m                 \u001b[0;31m# If we have a listlike key, _check_indexing_error will raise\u001b[0m\u001b[0;34m\u001b[0m\u001b[0;34m\u001b[0m\u001b[0m\n",
            "\u001b[0;31mKeyError\u001b[0m: ('id', 'churn')"
          ]
        }
      ]
    },
    {
      "cell_type": "code",
      "source": [
        "df4 = pd.DataFrame(diff)\n",
        "\n",
        "churn_value = df3['churn']\n",
        "\n",
        "df4['Churn'] = churn_value"
      ],
      "metadata": {
        "id": "3buiM8mpiiLj"
      },
      "execution_count": null,
      "outputs": []
    },
    {
      "cell_type": "code",
      "source": [
        "df4.head()"
      ],
      "metadata": {
        "colab": {
          "base_uri": "https://localhost:8080/",
          "height": 206
        },
        "id": "ed74plrsjGl6",
        "outputId": "1ccb0910-2d9e-460c-cc05-8178f47cdd7b"
      },
      "execution_count": null,
      "outputs": [
        {
          "output_type": "execute_result",
          "data": {
            "text/plain": [
              "                                 id  offpeak_diff_dec_january_energy  \\\n",
              "0  0002203ffbb812588b632b9e628cc38d                        -0.006192   \n",
              "1  0004351ebdd665e6ee664792efc4fd13                        -0.004104   \n",
              "2  0010bcc39e42b3c2131ed2ce55246e3c                         0.050443   \n",
              "3  00114d74e963e47177db89bc70108537                        -0.003994   \n",
              "4  0013f326a839a2f6ad87a1859952d227                        -0.006171   \n",
              "\n",
              "   offpeak_diff_dec_january_power  Churn  \n",
              "0                        0.162916      1  \n",
              "1                        0.177779      1  \n",
              "2                        1.500000      1  \n",
              "3                       -0.000001      1  \n",
              "4                        0.000000      1  "
            ],
            "text/html": [
              "\n",
              "  <div id=\"df-3ecd707d-1059-4e4b-b530-48338e31568a\">\n",
              "    <div class=\"colab-df-container\">\n",
              "      <div>\n",
              "<style scoped>\n",
              "    .dataframe tbody tr th:only-of-type {\n",
              "        vertical-align: middle;\n",
              "    }\n",
              "\n",
              "    .dataframe tbody tr th {\n",
              "        vertical-align: top;\n",
              "    }\n",
              "\n",
              "    .dataframe thead th {\n",
              "        text-align: right;\n",
              "    }\n",
              "</style>\n",
              "<table border=\"1\" class=\"dataframe\">\n",
              "  <thead>\n",
              "    <tr style=\"text-align: right;\">\n",
              "      <th></th>\n",
              "      <th>id</th>\n",
              "      <th>offpeak_diff_dec_january_energy</th>\n",
              "      <th>offpeak_diff_dec_january_power</th>\n",
              "      <th>Churn</th>\n",
              "    </tr>\n",
              "  </thead>\n",
              "  <tbody>\n",
              "    <tr>\n",
              "      <th>0</th>\n",
              "      <td>0002203ffbb812588b632b9e628cc38d</td>\n",
              "      <td>-0.006192</td>\n",
              "      <td>0.162916</td>\n",
              "      <td>1</td>\n",
              "    </tr>\n",
              "    <tr>\n",
              "      <th>1</th>\n",
              "      <td>0004351ebdd665e6ee664792efc4fd13</td>\n",
              "      <td>-0.004104</td>\n",
              "      <td>0.177779</td>\n",
              "      <td>1</td>\n",
              "    </tr>\n",
              "    <tr>\n",
              "      <th>2</th>\n",
              "      <td>0010bcc39e42b3c2131ed2ce55246e3c</td>\n",
              "      <td>0.050443</td>\n",
              "      <td>1.500000</td>\n",
              "      <td>1</td>\n",
              "    </tr>\n",
              "    <tr>\n",
              "      <th>3</th>\n",
              "      <td>00114d74e963e47177db89bc70108537</td>\n",
              "      <td>-0.003994</td>\n",
              "      <td>-0.000001</td>\n",
              "      <td>1</td>\n",
              "    </tr>\n",
              "    <tr>\n",
              "      <th>4</th>\n",
              "      <td>0013f326a839a2f6ad87a1859952d227</td>\n",
              "      <td>-0.006171</td>\n",
              "      <td>0.000000</td>\n",
              "      <td>1</td>\n",
              "    </tr>\n",
              "  </tbody>\n",
              "</table>\n",
              "</div>\n",
              "      <button class=\"colab-df-convert\" onclick=\"convertToInteractive('df-3ecd707d-1059-4e4b-b530-48338e31568a')\"\n",
              "              title=\"Convert this dataframe to an interactive table.\"\n",
              "              style=\"display:none;\">\n",
              "        \n",
              "  <svg xmlns=\"http://www.w3.org/2000/svg\" height=\"24px\"viewBox=\"0 0 24 24\"\n",
              "       width=\"24px\">\n",
              "    <path d=\"M0 0h24v24H0V0z\" fill=\"none\"/>\n",
              "    <path d=\"M18.56 5.44l.94 2.06.94-2.06 2.06-.94-2.06-.94-.94-2.06-.94 2.06-2.06.94zm-11 1L8.5 8.5l.94-2.06 2.06-.94-2.06-.94L8.5 2.5l-.94 2.06-2.06.94zm10 10l.94 2.06.94-2.06 2.06-.94-2.06-.94-.94-2.06-.94 2.06-2.06.94z\"/><path d=\"M17.41 7.96l-1.37-1.37c-.4-.4-.92-.59-1.43-.59-.52 0-1.04.2-1.43.59L10.3 9.45l-7.72 7.72c-.78.78-.78 2.05 0 2.83L4 21.41c.39.39.9.59 1.41.59.51 0 1.02-.2 1.41-.59l7.78-7.78 2.81-2.81c.8-.78.8-2.07 0-2.86zM5.41 20L4 18.59l7.72-7.72 1.47 1.35L5.41 20z\"/>\n",
              "  </svg>\n",
              "      </button>\n",
              "      \n",
              "  <style>\n",
              "    .colab-df-container {\n",
              "      display:flex;\n",
              "      flex-wrap:wrap;\n",
              "      gap: 12px;\n",
              "    }\n",
              "\n",
              "    .colab-df-convert {\n",
              "      background-color: #E8F0FE;\n",
              "      border: none;\n",
              "      border-radius: 50%;\n",
              "      cursor: pointer;\n",
              "      display: none;\n",
              "      fill: #1967D2;\n",
              "      height: 32px;\n",
              "      padding: 0 0 0 0;\n",
              "      width: 32px;\n",
              "    }\n",
              "\n",
              "    .colab-df-convert:hover {\n",
              "      background-color: #E2EBFA;\n",
              "      box-shadow: 0px 1px 2px rgba(60, 64, 67, 0.3), 0px 1px 3px 1px rgba(60, 64, 67, 0.15);\n",
              "      fill: #174EA6;\n",
              "    }\n",
              "\n",
              "    [theme=dark] .colab-df-convert {\n",
              "      background-color: #3B4455;\n",
              "      fill: #D2E3FC;\n",
              "    }\n",
              "\n",
              "    [theme=dark] .colab-df-convert:hover {\n",
              "      background-color: #434B5C;\n",
              "      box-shadow: 0px 1px 3px 1px rgba(0, 0, 0, 0.15);\n",
              "      filter: drop-shadow(0px 1px 2px rgba(0, 0, 0, 0.3));\n",
              "      fill: #FFFFFF;\n",
              "    }\n",
              "  </style>\n",
              "\n",
              "      <script>\n",
              "        const buttonEl =\n",
              "          document.querySelector('#df-3ecd707d-1059-4e4b-b530-48338e31568a button.colab-df-convert');\n",
              "        buttonEl.style.display =\n",
              "          google.colab.kernel.accessAllowed ? 'block' : 'none';\n",
              "\n",
              "        async function convertToInteractive(key) {\n",
              "          const element = document.querySelector('#df-3ecd707d-1059-4e4b-b530-48338e31568a');\n",
              "          const dataTable =\n",
              "            await google.colab.kernel.invokeFunction('convertToInteractive',\n",
              "                                                     [key], {});\n",
              "          if (!dataTable) return;\n",
              "\n",
              "          const docLinkHtml = 'Like what you see? Visit the ' +\n",
              "            '<a target=\"_blank\" href=https://colab.research.google.com/notebooks/data_table.ipynb>data table notebook</a>'\n",
              "            + ' to learn more about interactive tables.';\n",
              "          element.innerHTML = '';\n",
              "          dataTable['output_type'] = 'display_data';\n",
              "          await google.colab.output.renderOutput(dataTable, element);\n",
              "          const docLink = document.createElement('div');\n",
              "          docLink.innerHTML = docLinkHtml;\n",
              "          element.appendChild(docLink);\n",
              "        }\n",
              "      </script>\n",
              "    </div>\n",
              "  </div>\n",
              "  "
            ]
          },
          "metadata": {},
          "execution_count": 30
        }
      ]
    },
    {
      "cell_type": "code",
      "source": [
        "df4.shape"
      ],
      "metadata": {
        "colab": {
          "base_uri": "https://localhost:8080/"
        },
        "id": "hiFyS8hvjIQN",
        "outputId": "586b7b2c-5a94-4baf-9121-4567c2b04649"
      },
      "execution_count": null,
      "outputs": [
        {
          "output_type": "execute_result",
          "data": {
            "text/plain": [
              "(14606, 4)"
            ]
          },
          "metadata": {},
          "execution_count": 32
        }
      ]
    },
    {
      "cell_type": "code",
      "source": [
        "df4.Churn.value_counts()"
      ],
      "metadata": {
        "colab": {
          "base_uri": "https://localhost:8080/"
        },
        "id": "dLJM8GaKjNc6",
        "outputId": "ea8f3bfe-e155-4967-faf5-17b173ca9d7f"
      },
      "execution_count": null,
      "outputs": [
        {
          "output_type": "execute_result",
          "data": {
            "text/plain": [
              "0    13108\n",
              "1     1498\n",
              "Name: Churn, dtype: int64"
            ]
          },
          "metadata": {},
          "execution_count": 34
        }
      ]
    },
    {
      "cell_type": "code",
      "source": [
        "x = df4.iloc[:, 1:-1].values\n",
        "y = df4.iloc[:, -1].values"
      ],
      "metadata": {
        "id": "ArczhbQBjysL"
      },
      "execution_count": null,
      "outputs": []
    },
    {
      "cell_type": "code",
      "source": [
        "from sklearn.model_selection import train_test_split\n",
        "x_train, x_test, y_train, y_test = train_test_split(x, y, test_size = 0.25, random_state = 0)"
      ],
      "metadata": {
        "id": "DrgFpSK9kj2F"
      },
      "execution_count": null,
      "outputs": []
    },
    {
      "cell_type": "code",
      "source": [
        "from imblearn.combine import SMOTEENN\n",
        "oversample = SMOTEENN()\n",
        "x_train,y_train = oversample.fit_resample(x_train,y_train)"
      ],
      "metadata": {
        "id": "-5iepvFvkolE"
      },
      "execution_count": null,
      "outputs": []
    },
    {
      "cell_type": "code",
      "source": [
        "from sklearn.preprocessing import StandardScaler\n",
        "sc = StandardScaler()\n",
        "x_train = sc.fit_transform(x_train)\n"
      ],
      "metadata": {
        "id": "dQjTPnVYlCEw"
      },
      "execution_count": null,
      "outputs": []
    },
    {
      "cell_type": "code",
      "source": [
        "from sklearn.ensemble import RandomForestClassifier\n",
        "\n",
        "classifier = RandomForestClassifier(n_estimators=20, random_state=0)\n",
        "classifier.fit(x_train, y_train)\n",
        "y_pred = classifier.predict(x_test)\n",
        "print(y_pred)"
      ],
      "metadata": {
        "colab": {
          "base_uri": "https://localhost:8080/"
        },
        "id": "1nQRpnCGlHbd",
        "outputId": "aafd30c0-aa90-48ef-80fa-f48cb410c845"
      },
      "execution_count": null,
      "outputs": [
        {
          "output_type": "stream",
          "name": "stdout",
          "text": [
            "[0 0 0 ... 0 0 0]\n"
          ]
        }
      ]
    },
    {
      "cell_type": "code",
      "source": [
        "from sklearn.metrics import classification_report, confusion_matrix, accuracy_score\n",
        "\n",
        "print(confusion_matrix(y_test,y_pred))\n",
        "print(classification_report(y_test,y_pred))\n",
        "print(accuracy_score(y_test, y_pred))"
      ],
      "metadata": {
        "colab": {
          "base_uri": "https://localhost:8080/"
        },
        "id": "-3bT74tKlK2E",
        "outputId": "1d1b4adf-b8c0-4c4b-dc30-9def5135bb4e"
      },
      "execution_count": null,
      "outputs": [
        {
          "output_type": "stream",
          "name": "stdout",
          "text": [
            "[[3037  273]\n",
            " [ 309   33]]\n",
            "              precision    recall  f1-score   support\n",
            "\n",
            "           0       0.91      0.92      0.91      3310\n",
            "           1       0.11      0.10      0.10       342\n",
            "\n",
            "    accuracy                           0.84      3652\n",
            "   macro avg       0.51      0.51      0.51      3652\n",
            "weighted avg       0.83      0.84      0.84      3652\n",
            "\n",
            "0.8406352683461117\n"
          ]
        }
      ]
    },
    {
      "cell_type": "code",
      "source": [
        "df4.columns"
      ],
      "metadata": {
        "colab": {
          "base_uri": "https://localhost:8080/"
        },
        "id": "pihf6-ZsnKXa",
        "outputId": "57fb9f99-9361-48b4-a50a-090628cdf586"
      },
      "execution_count": null,
      "outputs": [
        {
          "output_type": "execute_result",
          "data": {
            "text/plain": [
              "Index(['id', 'offpeak_diff_dec_january_energy',\n",
              "       'offpeak_diff_dec_january_power', 'Churn'],\n",
              "      dtype='object')"
            ]
          },
          "metadata": {},
          "execution_count": 52
        }
      ]
    },
    {
      "cell_type": "code",
      "source": [
        "df = pd.DataFrame(np.random.random((100,3)), columns=[\"offpeak_diff_dec_january_energy\",\"offpeak_diff_dec_january_power\",\"churn\"])\n",
        "\n",
        "\n",
        "corr_matrix=df.corr()\n",
        "\n",
        "import seaborn as sns\n",
        "sns.heatmap(corr_matrix, cmap='PuOr')"
      ],
      "metadata": {
        "colab": {
          "base_uri": "https://localhost:8080/",
          "height": 668
        },
        "id": "8Sf_227Pjjpr",
        "outputId": "df0c9c09-85a9-4be0-b60e-ff4acc11fb78"
      },
      "execution_count": null,
      "outputs": [
        {
          "output_type": "execute_result",
          "data": {
            "text/plain": [
              "<Axes: >"
            ]
          },
          "metadata": {},
          "execution_count": 54
        },
        {
          "output_type": "display_data",
          "data": {
            "text/plain": [
              "<Figure size 640x480 with 2 Axes>"
            ],
            "image/png": "[encoded data removed]"
          },
          "metadata": {}
        }
      ]
    },
    {
      "cell_type": "code",
      "source": [],
      "metadata": {
        "id": "_eDdxYpCnV0o"
      },
      "execution_count": null,
      "outputs": []
    }
  ]
}